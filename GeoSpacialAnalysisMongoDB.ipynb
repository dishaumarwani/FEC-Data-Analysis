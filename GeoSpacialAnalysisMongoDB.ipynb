{
 "cells": [
  {
   "cell_type": "markdown",
   "metadata": {},
   "source": [
    "## GeoSpacial Analysis in MongoDB\n",
    "\n",
    "To perform Geospacial analysis in MongoDB you need to have the document in particular format for MongoDb to create index. After you have converted the file you need to create a new collection in MongoDB database. \n",
    "\n",
    "After importing the documents(records) you then need to create a geospacial index on Location attribute."
   ]
  },
  {
   "cell_type": "markdown",
   "metadata": {},
   "source": [
    "Import Statements"
   ]
  },
  {
   "cell_type": "code",
   "execution_count": 1,
   "metadata": {
    "collapsed": true
   },
   "outputs": [],
   "source": [
    "import pandas as pd\n",
    "import numpy as np\n",
    "\n",
    "import json\n",
    "data_path = \"../Data/business.json\"\n",
    "out_data_path = \"../Data/business_GeoSphere.json\""
   ]
  },
  {
   "cell_type": "markdown",
   "metadata": {},
   "source": [
    "## Preparing Data for Geospacial analysis"
   ]
  },
  {
   "cell_type": "code",
   "execution_count": null,
   "metadata": {
    "collapsed": true
   },
   "outputs": [],
   "source": [
    "import json\n",
    "def main(f, o):\n",
    "    \"\"\"\n",
    "    fix JSON input 'f' and save it as a JSON Array to output file 'o'\n",
    "    :param f: input file path as a string\n",
    "    :param o: output file path as a string\n",
    "    :return: None\n",
    "    \"\"\"\n",
    "    with open(f) as f:\n",
    "        l = f.read().splitlines()\n",
    "        res = []\n",
    "        out = open(o, 'w')\n",
    "        for line in l:\n",
    "            j = json.loads(line)\n",
    "            d = {}\n",
    "            d['_id'] = j['business_id']\n",
    "            d['name'] = j['name']\n",
    "            d[\"loc\"] = {\n",
    "                        \"type\" : \"Point\",\n",
    "                        \"coordinates\" : [j['longitude'], j[\"lattitude\"]]\n",
    "              }\n",
    "            d['stars'] = j['stars']\n",
    "            d['review_count'] = j['review_count']\n",
    "            d['categories'] = j['categories']\n",
    "            res.append(json.dumps(d))\n",
    "        out.write('[' + ',\\n'.join(res) + ']')\n",
    "        out.close()\n",
    "\n",
    "\n",
    "if __name__ == '__main__':\n",
    "    main(data_path, out_data_path)"
   ]
  },
  {
   "cell_type": "markdown",
   "metadata": {},
   "source": [
    "## Connecting with database"
   ]
  },
  {
   "cell_type": "code",
   "execution_count": 2,
   "metadata": {
    "collapsed": true
   },
   "outputs": [],
   "source": [
    "def get_db():\n",
    "    # For local use\n",
    "    from pymongo import MongoClient\n",
    "    client = MongoClient('localhost:27017')\n",
    "    # 'yelp' here is the database name. It will be created if it does not exist.\n",
    "    db = client.yelp\n",
    "    return db\n",
    "\n",
    "if __name__ == \"__main__\":\n",
    "    # For local use\n",
    "    db = get_db() \n",
    "    #extract the data stored in the database\n",
    "    businessGeoin = db.businessGeoSp.find()"
   ]
  },
  {
   "cell_type": "markdown",
   "metadata": {},
   "source": [
    "Checking if the data has been imported correctly"
   ]
  },
  {
   "cell_type": "code",
   "execution_count": null,
   "metadata": {
    "collapsed": true
   },
   "outputs": [],
   "source": [
    "for d in db.businessGeoSp.find()[:3]:\n",
    "    print(d)"
   ]
  },
  {
   "cell_type": "markdown",
   "metadata": {},
   "source": [
    "## Performing GeoSpacial analysis on Data"
   ]
  },
  {
   "cell_type": "markdown",
   "metadata": {},
   "source": [
    "This pipeline filters the records within 15000 meters radius of Toronto coordinates.\n",
    "\n",
    "It then unwinds or splits the list of categories in the data and then performs grouping aggegation"
   ]
  },
  {
   "cell_type": "code",
   "execution_count": 5,
   "metadata": {},
   "outputs": [
    {
     "data": {
      "text/plain": [
       "<pymongo.command_cursor.CommandCursor at 0x1063109b0>"
      ]
     },
     "execution_count": 5,
     "metadata": {},
     "output_type": "execute_result"
    }
   ],
   "source": [
    "geo = db.businessGeoSp.aggregate([\n",
    "   {  \n",
    "     \"$geoNear\": {\n",
    "        \"near\": { \"type\": \"Point\", \"coordinates\": [ -79.3832, 43.6532] },\n",
    "        \"distanceField\": \"dist.calculated\",\n",
    "        \"minDistance\":0,\n",
    "        \"maxDistance\": 15000,\n",
    "        \"includeLocs\": \"dist.location\",\n",
    "        \"spherical\": \"true\"\n",
    "     }},\n",
    "     { \"$unwind\" : \"$categories\" },\n",
    "    {\"$group\" :{\"_id\":{\"categories\":\"$categories\"},\"avgStars\" :{\"$avg\":\"$stars\"}, \"avgReviews\":{\"$avg\":\"$review_count\"}}}\n",
    "    ,\n",
    "    { \"$out\" : \"near_toronto_business\" }\n",
    "])"
   ]
  },
  {
   "cell_type": "code",
   "execution_count": 4,
   "metadata": {},
   "outputs": [
    {
     "name": "stdout",
     "output_type": "stream",
     "text": [
      "{'_id': {'categories': 'Wine Bars'}, 'avgStars': 3.5, 'avgReviews': 23.0}\n",
      "{'_id': {'categories': 'Diners'}, 'avgStars': 3.5, 'avgReviews': 23.0}\n",
      "{'_id': {'categories': 'Leather Goods'}, 'avgStars': 1.5, 'avgReviews': 8.0}\n",
      "{'_id': {'categories': 'Taxis'}, 'avgStars': 1.0, 'avgReviews': 9.0}\n",
      "{'_id': {'categories': 'Candy Stores'}, 'avgStars': 5.0, 'avgReviews': 3.0}\n",
      "{'_id': {'categories': 'Laser Hair Removal'}, 'avgStars': 3.1666666666666665, 'avgReviews': 14.666666666666666}\n",
      "{'_id': {'categories': 'Chocolatiers & Shops'}, 'avgStars': 5.0, 'avgReviews': 3.0}\n",
      "{'_id': {'categories': 'Hair Removal'}, 'avgStars': 3.1666666666666665, 'avgReviews': 14.666666666666666}\n",
      "{'_id': {'categories': 'Grocery'}, 'avgStars': 3.5, 'avgReviews': 22.0}\n",
      "{'_id': {'categories': 'Chinese'}, 'avgStars': 3.0, 'avgReviews': 32.5}\n",
      "{'_id': {'categories': 'Massage'}, 'avgStars': 3.5, 'avgReviews': 10.0}\n",
      "{'_id': {'categories': 'Hawaiian'}, 'avgStars': 4.0, 'avgReviews': 239.0}\n",
      "{'_id': {'categories': 'Canadian (New)'}, 'avgStars': 3.0, 'avgReviews': 31.0}\n",
      "{'_id': {'categories': 'Vietnamese'}, 'avgStars': 4.0, 'avgReviews': 57.0}\n",
      "{'_id': {'categories': 'Beer'}, 'avgStars': 2.0, 'avgReviews': 11.0}\n",
      "{'_id': {'categories': 'Bars'}, 'avgStars': 3.1666666666666665, 'avgReviews': 24.0}\n",
      "{'_id': {'categories': 'Nightlife'}, 'avgStars': 3.1666666666666665, 'avgReviews': 24.0}\n",
      "{'_id': {'categories': 'Pubs'}, 'avgStars': 3.0, 'avgReviews': 24.5}\n",
      "{'_id': {'categories': 'Travel Services'}, 'avgStars': 4.0, 'avgReviews': 30.0}\n",
      "{'_id': {'categories': 'Seafood'}, 'avgStars': 3.5, 'avgReviews': 23.0}\n",
      "{'_id': {'categories': 'Photography Stores & Services'}, 'avgStars': 4.0, 'avgReviews': 30.0}\n",
      "{'_id': {'categories': 'University Housing'}, 'avgStars': 2.0, 'avgReviews': 9.0}\n",
      "{'_id': {'categories': 'Photographers'}, 'avgStars': 4.0, 'avgReviews': 30.0}\n",
      "{'_id': {'categories': 'Passport & Visa Services'}, 'avgStars': 4.0, 'avgReviews': 30.0}\n",
      "{'_id': {'categories': 'Bakeries'}, 'avgStars': 3.5, 'avgReviews': 45.0}\n",
      "{'_id': {'categories': 'Cafes'}, 'avgStars': 4.333333333333333, 'avgReviews': 29.0}\n",
      "{'_id': {'categories': 'Cards & Stationery'}, 'avgStars': 5.0, 'avgReviews': 5.0}\n",
      "{'_id': {'categories': 'Lingerie'}, 'avgStars': 3.0, 'avgReviews': 19.0}\n",
      "{'_id': {'categories': 'Drugstores'}, 'avgStars': 3.0, 'avgReviews': 6.0}\n",
      "{'_id': {'categories': 'Pizza'}, 'avgStars': 3.5, 'avgReviews': 140.0}\n",
      "{'_id': {'categories': 'Day Spas'}, 'avgStars': 3.0833333333333335, 'avgReviews': 14.166666666666666}\n",
      "{'_id': {'categories': 'Cafeteria'}, 'avgStars': 2.0, 'avgReviews': 11.0}\n",
      "{'_id': {'categories': 'Real Estate'}, 'avgStars': 2.0, 'avgReviews': 9.0}\n",
      "{'_id': {'categories': 'Modern European'}, 'avgStars': 4.5, 'avgReviews': 23.0}\n",
      "{'_id': {'categories': 'Fast Food'}, 'avgStars': 3.75, 'avgReviews': 69.75}\n",
      "{'_id': {'categories': 'Hair Salons'}, 'avgStars': 2.7, 'avgReviews': 15.0}\n",
      "{'_id': {'categories': 'Health & Medical'}, 'avgStars': 3.0, 'avgReviews': 5.0}\n",
      "{'_id': {'categories': 'Cosmetics & Beauty Supply'}, 'avgStars': 5.0, 'avgReviews': 7.0}\n",
      "{'_id': {'categories': 'Massage Therapy'}, 'avgStars': 3.5, 'avgReviews': 3.0}\n",
      "{'_id': {'categories': 'Venues & Event Spaces'}, 'avgStars': 3.5, 'avgReviews': 44.0}\n",
      "{'_id': {'categories': 'Hotels'}, 'avgStars': 3.5, 'avgReviews': 44.0}\n",
      "{'_id': {'categories': 'Music & Video'}, 'avgStars': 3.75, 'avgReviews': 10.0}\n",
      "{'_id': {'categories': 'Mags'}, 'avgStars': 3.75, 'avgReviews': 10.0}\n",
      "{'_id': {'categories': 'Bookstores'}, 'avgStars': 4.5, 'avgReviews': 17.0}\n",
      "{'_id': {'categories': 'Automotive'}, 'avgStars': 5.0, 'avgReviews': 5.0}\n",
      "{'_id': {'categories': 'Fashion'}, 'avgStars': 2.65, 'avgReviews': 9.2}\n",
      "{'_id': {'categories': 'Gyms'}, 'avgStars': 3.0, 'avgReviews': 13.0}\n",
      "{'_id': {'categories': 'Breakfast & Brunch'}, 'avgStars': 2.9, 'avgReviews': 35.6}\n",
      "{'_id': {'categories': 'Wedding Planning'}, 'avgStars': 5.0, 'avgReviews': 3.0}\n",
      "{'_id': {'categories': 'Sports Clubs'}, 'avgStars': 3.0, 'avgReviews': 13.0}\n",
      "{'_id': {'categories': 'Movers'}, 'avgStars': 4.5, 'avgReviews': 54.0}\n",
      "{'_id': {'categories': 'Tours'}, 'avgStars': 2.5, 'avgReviews': 3.0}\n",
      "{'_id': {'categories': 'Shoe Stores'}, 'avgStars': 2.0, 'avgReviews': 5.0}\n",
      "{'_id': {'categories': 'Mexican'}, 'avgStars': 2.25, 'avgReviews': 6.0}\n",
      "{'_id': {'categories': 'Jewelry'}, 'avgStars': 3.25, 'avgReviews': 6.5}\n",
      "{'_id': {'categories': 'Dog Parks'}, 'avgStars': 2.5, 'avgReviews': 3.0}\n",
      "{'_id': {'categories': 'Wine & Spirits'}, 'avgStars': 2.0, 'avgReviews': 11.0}\n",
      "{'_id': {'categories': 'Steakhouses'}, 'avgStars': 3.5, 'avgReviews': 84.0}\n",
      "{'_id': {'categories': 'French'}, 'avgStars': 4.5, 'avgReviews': 23.0}\n",
      "{'_id': {'categories': 'Churches'}, 'avgStars': 4.5, 'avgReviews': 3.0}\n",
      "{'_id': {'categories': 'Vegan'}, 'avgStars': 3.5, 'avgReviews': 76.0}\n",
      "{'_id': {'categories': 'Waxing'}, 'avgStars': 3.0, 'avgReviews': 4.0}\n",
      "{'_id': {'categories': 'Eyewear & Opticians'}, 'avgStars': 3.0, 'avgReviews': 9.5}\n",
      "{'_id': {'categories': 'Shoe Repair'}, 'avgStars': 1.5, 'avgReviews': 5.0}\n",
      "{'_id': {'categories': 'Dance Schools'}, 'avgStars': 5.0, 'avgReviews': 5.0}\n",
      "{'_id': {'categories': 'Greek'}, 'avgStars': 4.25, 'avgReviews': 6.0}\n",
      "{'_id': {'categories': 'Threading Services'}, 'avgStars': 3.0, 'avgReviews': 4.0}\n",
      "{'_id': {'categories': 'Flowers & Gifts'}, 'avgStars': 5.0, 'avgReviews': 5.0}\n",
      "{'_id': {'categories': 'Professional Services'}, 'avgStars': 5.0, 'avgReviews': 4.0}\n",
      "{'_id': {'categories': 'Home Organization'}, 'avgStars': 5.0, 'avgReviews': 4.0}\n",
      "{'_id': {'categories': 'Event Photography'}, 'avgStars': 4.0, 'avgReviews': 30.0}\n",
      "{'_id': {'categories': 'Italian'}, 'avgStars': 3.5, 'avgReviews': 140.0}\n",
      "{'_id': {'categories': 'Coffee & Tea'}, 'avgStars': 3.5833333333333335, 'avgReviews': 18.833333333333332}\n",
      "{'_id': {'categories': 'Office Cleaning'}, 'avgStars': 5.0, 'avgReviews': 4.0}\n",
      "{'_id': {'categories': 'Sandwiches'}, 'avgStars': 2.0, 'avgReviews': 4.0}\n",
      "{'_id': {'categories': 'Trainers'}, 'avgStars': 3.75, 'avgReviews': 9.0}\n",
      "{'_id': {'categories': 'Beauty & Spas'}, 'avgStars': 3.5, 'avgReviews': 10.6}\n",
      "{'_id': {'categories': 'Local Services'}, 'avgStars': 3.6666666666666665, 'avgReviews': 21.0}\n",
      "{'_id': {'categories': 'Parks'}, 'avgStars': 2.5, 'avgReviews': 3.0}\n",
      "{'_id': {'categories': 'Specialty Food'}, 'avgStars': 3.3, 'avgReviews': 8.8}\n",
      "{'_id': {'categories': 'Limos'}, 'avgStars': 1.0, 'avgReviews': 3.0}\n",
      "{'_id': {'categories': 'Arts & Crafts'}, 'avgStars': 5.0, 'avgReviews': 5.0}\n",
      "{'_id': {'categories': 'Performing Arts'}, 'avgStars': 3.75, 'avgReviews': 23.0}\n",
      "{'_id': {'categories': 'Fruits & Veggies'}, 'avgStars': 4.5, 'avgReviews': 4.0}\n",
      "{'_id': {'categories': 'Specialty Schools'}, 'avgStars': 5.0, 'avgReviews': 5.0}\n",
      "{'_id': {'categories': 'Caterers'}, 'avgStars': 5.0, 'avgReviews': 5.0}\n",
      "{'_id': {'categories': 'Burgers'}, 'avgStars': 2.75, 'avgReviews': 27.333333333333332}\n",
      "{'_id': {'categories': 'Religious Organizations'}, 'avgStars': 4.5, 'avgReviews': 3.0}\n",
      "{'_id': {'categories': 'Juice Bars & Smoothies'}, 'avgStars': 3.25, 'avgReviews': 4.0}\n",
      "{'_id': {'categories': 'Education'}, 'avgStars': 5.0, 'avgReviews': 5.0}\n",
      "{'_id': {'categories': 'Home Cleaning'}, 'avgStars': 3.75, 'avgReviews': 4.0}\n",
      "{'_id': {'categories': 'American (Traditional)'}, 'avgStars': 3.25, 'avgReviews': 8.0}\n",
      "{'_id': {'categories': 'American (New)'}, 'avgStars': 3.25, 'avgReviews': 45.0}\n",
      "{'_id': {'categories': 'Dance Studios'}, 'avgStars': 5.0, 'avgReviews': 5.0}\n",
      "{'_id': {'categories': 'Books'}, 'avgStars': 3.75, 'avgReviews': 10.0}\n",
      "{'_id': {'categories': 'Photo Booth Rentals'}, 'avgStars': 5.0, 'avgReviews': 3.0}\n",
      "{'_id': {'categories': 'Street Vendors'}, 'avgStars': 4.0, 'avgReviews': 5.0}\n",
      "{'_id': {'categories': 'Laser Eye Surgery/Lasik'}, 'avgStars': 2.5, 'avgReviews': 7.0}\n",
      "{'_id': {'categories': 'Vegetarian'}, 'avgStars': 2.25, 'avgReviews': 11.0}\n",
      "{'_id': {'categories': 'Videos & Video Game Rental'}, 'avgStars': 3.0, 'avgReviews': 3.0}\n",
      "{'_id': {'categories': 'Food'}, 'avgStars': 3.5277777777777777, 'avgReviews': 12.61111111111111}\n",
      "{'_id': {'categories': 'Hotels & Travel'}, 'avgStars': 2.4, 'avgReviews': 17.8}\n",
      "{'_id': {'categories': 'Food Stands'}, 'avgStars': 3.4166666666666665, 'avgReviews': 9.5}\n",
      "{'_id': {'categories': 'Accessories'}, 'avgStars': 2.6666666666666665, 'avgReviews': 6.666666666666667}\n",
      "{'_id': {'categories': 'Poutineries'}, 'avgStars': 3.5, 'avgReviews': 7.0}\n",
      "{'_id': {'categories': 'Restaurants'}, 'avgStars': 3.287878787878788, 'avgReviews': 32.06060606060606}\n",
      "{'_id': {'categories': 'Party & Event Planning'}, 'avgStars': 5.0, 'avgReviews': 3.0}\n",
      "{'_id': {'categories': 'Mediterranean'}, 'avgStars': 5.0, 'avgReviews': 5.0}\n",
      "{'_id': {'categories': \"Women's Clothing\"}, 'avgStars': 2.8333333333333335, 'avgReviews': 9.333333333333334}\n",
      "{'_id': {'categories': 'Fitness & Instruction'}, 'avgStars': 4.166666666666667, 'avgReviews': 7.666666666666667}\n",
      "{'_id': {'categories': 'Event Planning & Services'}, 'avgStars': 4.428571428571429, 'avgReviews': 13.428571428571429}\n",
      "{'_id': {'categories': 'Yoga'}, 'avgStars': 4.5, 'avgReviews': 5.0}\n",
      "{'_id': {'categories': 'Active Life'}, 'avgStars': 3.7, 'avgReviews': 6.0}\n",
      "{'_id': {'categories': 'Food Court'}, 'avgStars': 2.0, 'avgReviews': 11.0}\n",
      "{'_id': {'categories': 'Home Services'}, 'avgStars': 3.7, 'avgReviews': 18.8}\n",
      "{'_id': {'categories': 'Food Trucks'}, 'avgStars': 4.0, 'avgReviews': 8.8}\n",
      "{'_id': {'categories': 'Festivals'}, 'avgStars': 2.5, 'avgReviews': 41.0}\n",
      "{'_id': {'categories': 'Transportation'}, 'avgStars': 1.0, 'avgReviews': 6.0}\n",
      "{'_id': {'categories': 'Irish'}, 'avgStars': 3.5, 'avgReviews': 84.0}\n",
      "{'_id': {'categories': 'Local Flavor'}, 'avgStars': 3.75, 'avgReviews': 6.25}\n",
      "{'_id': {'categories': 'Junk Removal & Hauling'}, 'avgStars': 4.5, 'avgReviews': 54.0}\n",
      "{'_id': {'categories': 'Arts & Entertainment'}, 'avgStars': 3.6666666666666665, 'avgReviews': 16.666666666666668}\n",
      "{'_id': {'categories': 'Public Services & Government'}, 'avgStars': 3.6, 'avgReviews': 8.8}\n",
      "{'_id': {'categories': 'Skin Care'}, 'avgStars': 4.25, 'avgReviews': 10.0}\n",
      "{'_id': {'categories': 'Shopping'}, 'avgStars': 3.227272727272727, 'avgReviews': 9.636363636363637}\n",
      "{'_id': {'categories': 'Notaries'}, 'avgStars': 5.0, 'avgReviews': 4.0}\n",
      "{'_id': {'categories': 'Lighting Fixtures & Equipment'}, 'avgStars': 4.5, 'avgReviews': 23.0}\n",
      "{'_id': {'categories': 'Landmarks & Historical Buildings'}, 'avgStars': 3.875, 'avgReviews': 10.25}\n",
      "{'_id': {'categories': 'Nail Salons'}, 'avgStars': 2.0, 'avgReviews': 14.0}\n",
      "{'_id': {'categories': \"Men's Clothing\"}, 'avgStars': 2.6666666666666665, 'avgReviews': 14.0}\n",
      "{'_id': {'categories': 'Electricians'}, 'avgStars': 4.5, 'avgReviews': 23.0}\n",
      "{'_id': {'categories': 'Auto Glass Services'}, 'avgStars': 5.0, 'avgReviews': 5.0}\n"
     ]
    }
   ],
   "source": [
    "for d in geo:\n",
    "    print(d)"
   ]
  },
  {
   "cell_type": "markdown",
   "metadata": {},
   "source": [
    "## Left Join two collections for aggregations\n",
    "\n",
    "In this I have attemped to aggregate the reviews from 2000 - 2017 for various business categories and perform aggregation. For this we need to use two seperate collections reviews and business. \n",
    "Then we perform a look up operation which is similar to Left Join in relational databases"
   ]
  },
  {
   "cell_type": "code",
   "execution_count": 12,
   "metadata": {},
   "outputs": [
    {
     "data": {
      "text/plain": [
       "<pymongo.command_cursor.CommandCursor at 0x1063c3668>"
      ]
     },
     "execution_count": 12,
     "metadata": {},
     "output_type": "execute_result"
    }
   ],
   "source": [
    "db.businessGeoSp.aggregate([\n",
    "    {\n",
    "    \"$geoNear\": {\n",
    "        \"near\": { \"type\": \"Point\", \"coordinates\": [43.761539, -79.411079] },\n",
    "         \"distanceField\": \"dist.calculated\",\n",
    "         \"maxDistance\": 15000,\n",
    "         \"includeLocs\": \"dist.location\",\n",
    "         \"spherical\": True\n",
    "     }\n",
    "    },\n",
    "    { \"$unwind\" : \"$categories\"},\n",
    "    {\"$match\" :  {\"categories\": {\"$in\" : [\"Food\"]}}},\n",
    "    { \"$lookup\":\n",
    "         {\n",
    "            \"from\": \"reviews\",\n",
    "            \"localField\": \"_id\",\n",
    "            \"foreignField\": \"business_id\",\n",
    "            \"as\": \"business_review\"\n",
    "        }\n",
    "       },\n",
    "    {'date': {'$gte': 'ISODate(\"2000-01-01T00:00:00Z\")','$lt': 'ISODate(\"2017-06-01T00:00:00Z\")'}}\n",
    "    {\"$group\" :{\"_id\":{\"name\": \"$business_review.name\"},\"avgStars\" :{\"$avg\":\"$business_review.stars\"}}}\n",
    "    \n",
    "])"
   ]
  }
 ],
 "metadata": {
  "kernelspec": {
   "display_name": "Python 3",
   "language": "python",
   "name": "python3"
  },
  "language_info": {
   "codemirror_mode": {
    "name": "ipython",
    "version": 3
   },
   "file_extension": ".py",
   "mimetype": "text/x-python",
   "name": "python",
   "nbconvert_exporter": "python",
   "pygments_lexer": "ipython3",
   "version": "3.6.0"
  }
 },
 "nbformat": 4,
 "nbformat_minor": 2
}
